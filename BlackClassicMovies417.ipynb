{
  "nbformat": 4,
  "nbformat_minor": 0,
  "metadata": {
    "colab": {
      "name": "BlackClassicMovies417.ipynb",
      "provenance": [],
      "authorship_tag": "ABX9TyOhrjMxQhj5Vj1jIW3Pdcgu",
      "include_colab_link": true
    },
    "kernelspec": {
      "name": "python3",
      "display_name": "Python 3"
    },
    "language_info": {
      "name": "python"
    }
  },
  "cells": [
    {
      "cell_type": "markdown",
      "metadata": {
        "id": "view-in-github",
        "colab_type": "text"
      },
      "source": [
        "<a href=\"https://colab.research.google.com/github/KianaC23/Capstone2021/blob/main/BlackClassicMovies417.ipynb\" target=\"_parent\"><img src=\"https://colab.research.google.com/assets/colab-badge.svg\" alt=\"Open In Colab\"/></a>"
      ]
    },
    {
      "cell_type": "code",
      "metadata": {
        "id": "5AuTal_hwJ23"
      },
      "source": [
        "import requests\n",
        "from bs4 import BeautifulSoup\n",
        "import os\n",
        "import datetime\n",
        "import pandas as pd\n",
        "from requests_html import HTML\n"
      ],
      "execution_count": 2,
      "outputs": []
    },
    {
      "cell_type": "markdown",
      "metadata": {
        "id": "RWQltQ0iBNMw"
      },
      "source": [
        "The code below opens the webpage content"
      ]
    },
    {
      "cell_type": "code",
      "metadata": {
        "id": "k3SbTVHrwTxy"
      },
      "source": [
        "headers = {\n",
        "    'User-Agent': 'Mozilla/5.0 (Macintosh; Intel Mac OS X 10.12; rv:55.0) Gecko/20100101 Firefox/55.0',\n",
        "}\n",
        "url = \"https://www.blackclassicmovies.com/movies-database/action/\"\n",
        "result = requests.get(url, headers=headers)\n",
        "src = result.content\n",
        "soup = BeautifulSoup(src, 'lxml')"
      ],
      "execution_count": 28,
      "outputs": []
    },
    {
      "cell_type": "code",
      "metadata": {
        "id": "dzRTGVWRwgFD"
      },
      "source": [
        "text = soup.get_text()\n",
        "#print(text)"
      ],
      "execution_count": 30,
      "outputs": []
    },
    {
      "cell_type": "markdown",
      "metadata": {
        "id": "XaHLnTZY-cZm"
      },
      "source": [
        "below I get an errorstatus when tryign to open the webpage\n"
      ]
    },
    {
      "cell_type": "code",
      "metadata": {
        "colab": {
          "base_uri": "https://localhost:8080/"
        },
        "id": "tpFQIxljyAes",
        "outputId": "52a3431f-c893-4002-f091-44ce2166b2c6"
      },
      "source": [
        "r = requests.get(url)\n",
        "# status code would be 200 if it worked. I've used his before so I'm not sure what I'm doing wrong\n",
        "r.status_code\n",
        "\n",
        "           \n",
        "           "
      ],
      "execution_count": 26,
      "outputs": [
        {
          "output_type": "execute_result",
          "data": {
            "text/plain": [
              "406"
            ]
          },
          "metadata": {
            "tags": []
          },
          "execution_count": 26
        }
      ]
    },
    {
      "cell_type": "code",
      "metadata": {
        "id": "xA9MtTsv4AdJ"
      },
      "source": [
        ""
      ],
      "execution_count": null,
      "outputs": []
    }
  ]
}